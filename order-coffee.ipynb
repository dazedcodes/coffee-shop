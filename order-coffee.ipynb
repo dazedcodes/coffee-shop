{
 "cells": [
  {
   "cell_type": "markdown",
   "metadata": {},
   "source": [
    "## Maya Murphy"
   ]
  },
  {
   "cell_type": "markdown",
   "metadata": {},
   "source": [
    "#### coffee-shop | grab a virtual coffee cup of coffee via a program written in Python.\n",
    "\n",
    "This Python program will calculate the cost of a custom cup of coffee at a gourmet coffee shop, you'll choose your coffee size, type, and flavor, and the program will summarize and price your order."
   ]
  },
  {
   "cell_type": "code",
   "execution_count": 12,
   "metadata": {},
   "outputs": [],
   "source": [
    "from functools import reduce"
   ]
  },
  {
   "cell_type": "markdown",
   "metadata": {},
   "source": [
    "Confirm coffee size the guest wants. ( small, medium, large )"
   ]
  },
  {
   "cell_type": "code",
   "execution_count": 13,
   "metadata": {},
   "outputs": [
    {
     "name": "stdout",
     "output_type": "stream",
     "text": [
      "Coffee Size:  medium\n"
     ]
    }
   ],
   "source": [
    "# Ask customer what size of coffee they'd like.\n",
    "size = input('Do you want small, medium, or large? ').lower()\n",
    "\n",
    "# Boolean tracking whether we need to re-confirm size or not.\n",
    "sizeList = [\"small\", \"medium\", \"large\"]\n",
    "checkSize = False if size in sizeList else True\n",
    "\n",
    "# If size coffee is not clear, reconfirm size.\n",
    "while (checkSize):\n",
    "    if (size not in sizeList):\n",
    "        print('')\n",
    "        print('I\\'m sorry I did not get that.')\n",
    "        size = input('Did you want a small, medium, or large? ').lower()\n",
    "    else:\n",
    "        checkSize = False\n",
    "print('Coffee Size: ', size)"
   ]
  },
  {
   "cell_type": "markdown",
   "metadata": {},
   "source": [
    "Confirm the coffee type the guest wants. ( brewed, espresso, cold press )"
   ]
  },
  {
   "cell_type": "code",
   "execution_count": 14,
   "metadata": {},
   "outputs": [
    {
     "name": "stdout",
     "output_type": "stream",
     "text": [
      "Coffee Type:  espresso\n"
     ]
    }
   ],
   "source": [
    "# Ask customer what type of coffee they'd like.\n",
    "type = input('Do you want brewed, espresso, or cold press? ').lower()\n",
    "\n",
    "# Boolean tracking whether we need to re-confirm type or not.\n",
    "typeList = ['brewed', 'espresso', 'cold press']\n",
    "checkType = False if type in typeList else True\n",
    "\n",
    "# If size coffee is not clear, reconfirm type.\n",
    "while (checkType):\n",
    "    if (type not in typeList):\n",
    "        print('')\n",
    "        print('I\\'m sorry I did not get that.')\n",
    "        type = input('Did you want brewed, espresso, or cold press?').lower()\n",
    "    else:\n",
    "        checkType = False\n",
    "print('Coffee Type: ', type)"
   ]
  },
  {
   "cell_type": "markdown",
   "metadata": {},
   "source": [
    "Confirm if the guest wants any added flavors. ( yes or no )"
   ]
  },
  {
   "cell_type": "code",
   "execution_count": 15,
   "metadata": {},
   "outputs": [
    {
     "name": "stdout",
     "output_type": "stream",
     "text": [
      "Added Flavors?  yes\n"
     ]
    }
   ],
   "source": [
    "getChoice = input('Do you want a flavored syrup? (yes or no) ').lower()\n",
    "\n",
    "# Boolean tracking whether we need to re-confirm flavor add on or not.\n",
    "choices = ['yes', 'no']\n",
    "checkChoice = False if getChoice in choices else True\n",
    "\n",
    "# If choice to add flavor is not clear, reconfirm choice.\n",
    "while (checkChoice):\n",
    "    if (getChoice not in choices):\n",
    "        print('')\n",
    "        print('I\\'m sorry I did not get that.')\n",
    "        getChoice = input(\n",
    "            'Did you want a flavored syrup? (yes or no) ').lower()\n",
    "    else:\n",
    "        checkChoice = False\n",
    "print('Added Flavors? ', getChoice)\n"
   ]
  },
  {
   "cell_type": "markdown",
   "metadata": {},
   "source": [
    "Confirm added flavors to add. ( hazelnut, vanilla, caramel )"
   ]
  },
  {
   "cell_type": "code",
   "execution_count": 18,
   "metadata": {},
   "outputs": [
    {
     "name": "stdout",
     "output_type": "stream",
     "text": [
      "\n",
      "Flavor:  caramel\n"
     ]
    }
   ],
   "source": [
    "flavor = ''\n",
    "if getChoice == 'yes':\n",
    "    flavor = input('Hazelnut, vanilla, or caramel? ')\n",
    "    print('')\n",
    "    msg = 'You asked for a {} cup of {} coffee with {} syrup.'.format(\n",
    "        size, type, flavor)\n",
    "elif getChoice == 'no':\n",
    "    print('')\n",
    "    msg = 'You asked for a {} cup of {} coffee.'.format(size, type)\n",
    "if getChoice == 'yes':\n",
    "    print('Flavor: ', flavor)\n",
    "else: \n",
    "    print('No flavors added to order.')\n"
   ]
  },
  {
   "cell_type": "markdown",
   "metadata": {},
   "source": [
    "Provide guest with summary and total with tip. "
   ]
  },
  {
   "cell_type": "code",
   "execution_count": 19,
   "metadata": {},
   "outputs": [
    {
     "name": "stdout",
     "output_type": "stream",
     "text": [
      "You asked for a medium cup of espresso coffee with caramel syrup.\n",
      "Your cup of coffee costs $ 4.0\n",
      "The price with a tip is $ 4.6\n"
     ]
    }
   ],
   "source": [
    "print(msg)\n",
    "options = [size, type, getChoice]\n",
    "cost = {\n",
    "    'small': 2,\n",
    "    'medium': 3,\n",
    "    'large': 4,\n",
    "    'brewed': 0,\n",
    "    'espresso': .50,\n",
    "    'cold press': 1,\n",
    "    'yes': .50,\n",
    "    'no': 0\n",
    "}\n",
    "itemizedCost = list(map(lambda option: cost[option], options))\n",
    "total = reduce(lambda a, b: a + b, itemizedCost)\n",
    "subtotal = total\n",
    "tipMsg = subtotal + (subtotal * .15)\n",
    "print('Your cup of coffee costs $ {}'.format(total))\n",
    "print('The price with a tip is $ {}'.format(tipMsg))"
   ]
  }
 ],
 "metadata": {
  "kernelspec": {
   "display_name": "Python 3 (ipykernel)",
   "language": "python",
   "name": "python3"
  },
  "language_info": {
   "codemirror_mode": {
    "name": "ipython",
    "version": 3
   },
   "file_extension": ".py",
   "mimetype": "text/x-python",
   "name": "python",
   "nbconvert_exporter": "python",
   "pygments_lexer": "ipython3",
   "version": "3.9.13"
  },
  "vscode": {
   "interpreter": {
    "hash": "aee8b7b246df8f9039afb4144a1f6fd8d2ca17a180786b69acc140d282b71a49"
   }
  }
 },
 "nbformat": 4,
 "nbformat_minor": 4
}
